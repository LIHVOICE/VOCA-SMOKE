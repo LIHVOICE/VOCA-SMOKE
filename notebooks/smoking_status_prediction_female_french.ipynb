{
 "cells": [
  {
   "cell_type": "code",
   "execution_count": 2,
   "metadata": {},
   "outputs": [
    {
     "name": "stdout",
     "output_type": "stream",
     "text": [
      "2.9.1\n"
     ]
    }
   ],
   "source": [
    "import tensorflow as tf\n",
    "print(tf.__version__)"
   ]
  },
  {
   "cell_type": "code",
   "execution_count": 3,
   "metadata": {},
   "outputs": [],
   "source": [
    "import seaborn as sns\n",
    "import matplotlib.pyplot as plt"
   ]
  },
  {
   "cell_type": "code",
   "execution_count": 4,
   "metadata": {},
   "outputs": [],
   "source": [
    "import pandas as pd\n",
    "#pd.options.mode.chained_assignment = None\n",
    "import numpy as np\n",
    "from scipy import stats"
   ]
  },
  {
   "cell_type": "code",
   "execution_count": 5,
   "metadata": {},
   "outputs": [],
   "source": [
    "import tensorflow as tf\n",
    "import tensorflow_hub as hub\n",
    "from tensorflow.keras.applications import *"
   ]
  },
  {
   "cell_type": "code",
   "execution_count": 7,
   "metadata": {},
   "outputs": [],
   "source": [
    "import sys\n",
    "sys.path.append('../utils')  # Add the 'utils' folder to the Python path\n",
    "\n",
    "from classification_cross_validation import pipeline_cross_val  # Import function from helper.py\n"
   ]
  },
  {
   "cell_type": "code",
   "execution_count": 8,
   "metadata": {},
   "outputs": [],
   "source": [
    "from sklearn.preprocessing import StandardScaler\n",
    "from sklearn.model_selection import StratifiedKFold, GridSearchCV\n",
    "from sklearn.decomposition import PCA\n",
    "from sklearn.pipeline import Pipeline\n",
    "from sklearn.linear_model import LogisticRegression\n",
    "from sklearn.neighbors import KNeighborsClassifier\n",
    "from sklearn.discriminant_analysis import LinearDiscriminantAnalysis\n",
    "from sklearn.ensemble import RandomForestClassifier, ExtraTreesClassifier\n",
    "from sklearn.neural_network import MLPClassifier\n",
    "from sklearn import svm\n",
    "from sklearn.svm import SVC"
   ]
  },
  {
   "cell_type": "code",
   "execution_count": 55,
   "metadata": {},
   "outputs": [],
   "source": [
    "import os\n",
    "\n",
    "DATA_FOLDER = 'path_to_folder_containing_participant_data'\n",
    "# Specifying colive voice extraction\n",
    "EXTRACTION = \"EXTRACT_2023_03_16_12_09_45\"\n",
    "\n",
    "EMBEDDINGS_FOLDER = '..\\\\embeddings\\\\for model training'"
   ]
  },
  {
   "attachments": {},
   "cell_type": "markdown",
   "metadata": {},
   "source": [
    "### Results for French-speaking female participants"
   ]
  },
  {
   "attachments": {},
   "cell_type": "markdown",
   "metadata": {},
   "source": [
    "##### Data reading \n",
    "(explicit participant data is private, the embeddings extracted from the audio recordings   are however available)"
   ]
  },
  {
   "cell_type": "code",
   "execution_count": 56,
   "metadata": {},
   "outputs": [],
   "source": [
    "# reading dataframe \n",
    "df = pd.read_csv(os.path.join(DATA_FOLDER, EXTRACTION, \"dataframe_name\"))\n",
    "# excluding participants that did not provide all audios correctly\n",
    "list_of_participants_to_exclude = []\n",
    "df = df[~df[\"UniqueId\"].isin(list_of_participants_to_exclude)]"
   ]
  },
  {
   "cell_type": "code",
   "execution_count": 12,
   "metadata": {},
   "outputs": [
    {
     "data": {
      "text/plain": [
       "1    251\n",
       "0    251\n",
       "Name: currently_smoking, dtype: int64"
      ]
     },
     "execution_count": 12,
     "metadata": {},
     "output_type": "execute_result"
    }
   ],
   "source": [
    "df['currently_smoking'].value_counts()"
   ]
  },
  {
   "cell_type": "code",
   "execution_count": 57,
   "metadata": {},
   "outputs": [
    {
     "data": {
      "text/plain": [
       "(502,)"
      ]
     },
     "execution_count": 57,
     "metadata": {},
     "output_type": "execute_result"
    }
   ],
   "source": [
    "y_smk = df['currently_smoking'].values\n",
    "y_smk.shape"
   ]
  },
  {
   "attachments": {},
   "cell_type": "markdown",
   "metadata": {},
   "source": [
    "##### Features"
   ]
  },
  {
   "cell_type": "code",
   "execution_count": 28,
   "metadata": {},
   "outputs": [],
   "source": [
    "reading_vggish_embeddings = np.load(os.path.join(EMBEDDINGS_FOLDER, 'vggish_reading_embeddings_female_french.npy'), allow_pickle=True)\n",
    "counting_egemaps_embeddings = np.load(os.path.join(EMBEDDINGS_FOLDER, 'egemaps_counting_embeddings_female_french.npy'))\n",
    "a_vowel_phonation_byola_embeddings = np.load(os.path.join(EMBEDDINGS_FOLDER, 'byola_512_a_vowel_phonation_embeddings_female_french.npy'))"
   ]
  },
  {
   "cell_type": "code",
   "execution_count": 29,
   "metadata": {},
   "outputs": [],
   "source": [
    "RANDOM_STATE = 42\n",
    "kfold = StratifiedKFold(n_splits = 5, shuffle = True, random_state = 42)\n",
    "scaler = StandardScaler()"
   ]
  },
  {
   "cell_type": "markdown",
   "metadata": {},
   "source": [
    "#### Reading"
   ]
  },
  {
   "cell_type": "code",
   "execution_count": 16,
   "metadata": {},
   "outputs": [
    {
     "data": {
      "text/plain": [
       "(502, 128)"
      ]
     },
     "execution_count": 16,
     "metadata": {},
     "output_type": "execute_result"
    }
   ],
   "source": [
    "embeddings_var = reading_vggish_embeddings\n",
    "embeddings_var.shape"
   ]
  },
  {
   "attachments": {},
   "cell_type": "markdown",
   "metadata": {},
   "source": [
    "##### Grid search without PCA "
   ]
  },
  {
   "cell_type": "code",
   "execution_count": 17,
   "metadata": {},
   "outputs": [
    {
     "name": "stdout",
     "output_type": "stream",
     "text": [
      "{'classifier': KNeighborsClassifier(n_neighbors=3), 'classifier__n_neighbors': 3, 'classifier__weights': 'uniform'}\n"
     ]
    }
   ],
   "source": [
    "search_space = { 'classifier': [KNeighborsClassifier()],\n",
    "                 'classifier__n_neighbors': [3, 5, 7],\n",
    "                 'classifier__weights': ['uniform', 'distance'],\n",
    "                 }\n",
    "\n",
    "pca_model =  Pipeline([('scaler', scaler), ('classifier', KNeighborsClassifier())])\n",
    "\n",
    "clf = GridSearchCV(pca_model, search_space, cv=kfold, verbose=False, scoring='accuracy', n_jobs=-1)\n",
    "clf = clf.fit(embeddings_var, y_smk)\n",
    "\n",
    "knn_neighbours = clf.best_params_['classifier__n_neighbors']\n",
    "knn_weights = clf.best_params_['classifier__weights']\n",
    "\n",
    "print(clf.best_params_)"
   ]
  },
  {
   "cell_type": "code",
   "execution_count": 18,
   "metadata": {},
   "outputs": [
    {
     "name": "stdout",
     "output_type": "stream",
     "text": [
      "{'classifier': LogisticRegression(C=0.1, solver='liblinear'), 'classifier__C': 0.1}\n",
      "None\n"
     ]
    }
   ],
   "source": [
    "search_space = {'classifier': [LogisticRegression(solver='liblinear')],\n",
    "                'classifier__C': [0.01, 0.1, 1.0, 10]}\n",
    "\n",
    "pca_model =  Pipeline([('scaler', scaler), ('classifier', LogisticRegression())])\n",
    "\n",
    "clf = GridSearchCV(pca_model, search_space, cv=kfold, verbose=False, scoring='accuracy', n_jobs=-1)\n",
    "clf = clf.fit(embeddings_var, y_smk)\n",
    "\n",
    "lr_c = clf.best_params_['classifier__C']\n",
    "\n",
    "print(print(clf.best_params_))"
   ]
  },
  {
   "cell_type": "code",
   "execution_count": 19,
   "metadata": {},
   "outputs": [
    {
     "name": "stdout",
     "output_type": "stream",
     "text": [
      "{'classifier': ExtraTreesClassifier(max_depth=20, n_estimators=50, random_state=42), 'classifier__max_depth': 20, 'classifier__n_estimators': 50}\n"
     ]
    }
   ],
   "source": [
    "search_space = {'classifier': [ExtraTreesClassifier(random_state=RANDOM_STATE)],\n",
    "                'classifier__n_estimators': [10, 30, 50, 100, 200],\n",
    "                'classifier__max_depth': [8, 10, 12, 20]}\n",
    "\n",
    "pca_model =  Pipeline([('scaler', scaler), ('classifier', ExtraTreesClassifier())])\n",
    "\n",
    "clf = GridSearchCV(pca_model, search_space, cv=kfold, verbose=False, scoring='accuracy', n_jobs=-1)\n",
    "clf = clf.fit(embeddings_var, y_smk)\n",
    "\n",
    "etc_max_depth = clf.best_params_['classifier__max_depth']\n",
    "etc_n_estimators = clf.best_params_['classifier__n_estimators']\n",
    "\n",
    "print(clf.best_params_)"
   ]
  },
  {
   "cell_type": "code",
   "execution_count": 20,
   "metadata": {},
   "outputs": [
    {
     "name": "stdout",
     "output_type": "stream",
     "text": [
      "{'classifier': RandomForestClassifier(max_depth=5, max_leaf_nodes=5, n_estimators=10,\n",
      "                       random_state=42), 'classifier__max_depth': 5, 'classifier__n_estimators': 10}\n"
     ]
    }
   ],
   "source": [
    "search_space = {'classifier': [RandomForestClassifier(max_depth=4, max_leaf_nodes=5, random_state=RANDOM_STATE)],\n",
    "                'classifier__max_depth': [5, 10, None],\n",
    "                'classifier__n_estimators': [10, 20, 30, 40, 50, 100]}\n",
    "\n",
    "pca_model =  Pipeline([('scaler', scaler), ('classifier', RandomForestClassifier())])\n",
    "\n",
    "clf = GridSearchCV(pca_model, search_space, cv=kfold, verbose=False, scoring='accuracy', n_jobs=-1)\n",
    "clf = clf.fit(embeddings_var, y_smk)\n",
    "\n",
    "rf_max_depth = clf.best_params_['classifier__max_depth']\n",
    "rf_n_estimators = clf.best_params_['classifier__n_estimators']\n",
    "\n",
    "print(clf.best_params_)"
   ]
  },
  {
   "cell_type": "code",
   "execution_count": 21,
   "metadata": {},
   "outputs": [
    {
     "name": "stdout",
     "output_type": "stream",
     "text": [
      "{'classifier': LinearDiscriminantAnalysis(), 'classifier__solver': 'svd'}\n"
     ]
    }
   ],
   "source": [
    "search_space = {'classifier': [LinearDiscriminantAnalysis()],\n",
    "                'classifier__solver': ['svd', 'lsqr']}\n",
    "\n",
    "pca_model =  Pipeline([('scaler', scaler), ('classifier', LinearDiscriminantAnalysis())])\n",
    "\n",
    "clf = GridSearchCV(pca_model, search_space, cv=kfold, verbose=False, scoring='accuracy', n_jobs=-1)\n",
    "clf = clf.fit(embeddings_var, y_smk)\n",
    "\n",
    "lda_solver = clf.best_params_['classifier__solver']\n",
    "\n",
    "print(clf.best_params_)\n"
   ]
  },
  {
   "cell_type": "code",
   "execution_count": 22,
   "metadata": {},
   "outputs": [
    {
     "name": "stdout",
     "output_type": "stream",
     "text": [
      "{'classifier': MLPClassifier(hidden_layer_sizes=(50,), max_iter=1000, random_state=42,\n",
      "              solver='lbfgs'), 'classifier__activation': 'relu', 'classifier__hidden_layer_sizes': (50,), 'classifier__solver': 'lbfgs'}\n"
     ]
    }
   ],
   "source": [
    "search_space = { 'classifier': [MLPClassifier(random_state=RANDOM_STATE, max_iter = 1000)],\n",
    "                 'classifier__hidden_layer_sizes': [(4,), (8,), (20,), (50,), (32,), (32,6,), (100,), (256, 128,)],\n",
    "                 'classifier__activation': ['relu', 'tanh', 'logistic'],\n",
    "                 'classifier__solver': ['adam', 'lbfgs']}\n",
    "\n",
    "pca_model =  Pipeline([('scaler', scaler), ('classifier',MLPClassifier(random_state=1, max_iter=1000))])\n",
    "\n",
    "clf = GridSearchCV(pca_model, search_space, cv=kfold, verbose=False, scoring='accuracy', n_jobs=-1)\n",
    "clf = clf.fit(embeddings_var, y_smk)\n",
    "\n",
    "mlp_hidden_layer = clf.best_params_['classifier__hidden_layer_sizes']\n",
    "mlp_activation = clf.best_params_['classifier__activation']\n",
    "mlp_solver = clf.best_params_['classifier__solver']\n",
    "\n",
    "print(clf.best_params_)"
   ]
  },
  {
   "cell_type": "code",
   "execution_count": 23,
   "metadata": {},
   "outputs": [
    {
     "name": "stdout",
     "output_type": "stream",
     "text": [
      "{'classifier': SVC(C=100000.0, gamma=1e-06), 'classifier__C': 100000.0, 'classifier__gamma': 1e-06}\n"
     ]
    }
   ],
   "source": [
    "search_space = {'classifier': [SVC(kernel='rbf')],\n",
    "                'classifier__C': [1e4, 1e5, 1e6],\n",
    "                'classifier__gamma': [1e-6, 1e-5, 1e-4, 1e-3]}\n",
    "\n",
    "pca_model =  Pipeline([('scaler', scaler), ('classifier', ('classifier', SVC(kernel='rbf')))])\n",
    "\n",
    "clf = GridSearchCV(pca_model, search_space, cv=kfold, verbose=False, scoring='accuracy', n_jobs=-1)\n",
    "clf = clf.fit(embeddings_var, y_smk)\n",
    "\n",
    "svc_c = clf.best_params_['classifier__C']\n",
    "svc_g = clf.best_params_['classifier__gamma']\n",
    "\n",
    "\n",
    "print(clf.best_params_)"
   ]
  },
  {
   "cell_type": "code",
   "execution_count": 24,
   "metadata": {},
   "outputs": [
    {
     "name": "stdout",
     "output_type": "stream",
     "text": [
      "{'classifier': SVC(C=10000.0, gamma=1e-05, kernel='sigmoid'), 'classifier__C': 10000.0, 'classifier__gamma': 1e-05}\n"
     ]
    }
   ],
   "source": [
    "search_space = {'classifier': [SVC(kernel='sigmoid')],\n",
    "                'classifier__C': [1e4, 1e5, 1e6],\n",
    "                'classifier__gamma': [1e-6, 1e-5, 1e-4, 1e-3]}\n",
    "\n",
    "pca_model =  Pipeline([('scaler', scaler), ('classifier', SVC(kernel='sigmoid'))])\n",
    "\n",
    "clf = GridSearchCV(pca_model, search_space, cv=kfold, verbose=False, scoring='accuracy', n_jobs=-1)\n",
    "clf = clf.fit(embeddings_var, y_smk)\n",
    "\n",
    "svc_sig_c = clf.best_params_['classifier__C']\n",
    "svc_sig_g = clf.best_params_['classifier__gamma']\n",
    "\n",
    "print(clf.best_params_)"
   ]
  },
  {
   "cell_type": "markdown",
   "metadata": {},
   "source": [
    "##### Cross-validation"
   ]
  },
  {
   "cell_type": "code",
   "execution_count": 25,
   "metadata": {},
   "outputs": [],
   "source": [
    "# Model building to train\n",
    "names = ['K Nearest Neighbors','Logistic Regression', 'ExtraTrees Classifier','Random Forest','LDA' ,'MLP Classifier' ,'SVM rbf', 'SVM sigmoid']\n",
    "Classifiers = [\n",
    "               KNeighborsClassifier(n_neighbors=knn_neighbours, weights=knn_weights),\n",
    "               LogisticRegression(solver='liblinear', C=lr_c), \n",
    "               ExtraTreesClassifier(random_state= RANDOM_STATE, max_depth=etc_max_depth, n_estimators=etc_n_estimators),\n",
    "               RandomForestClassifier(max_leaf_nodes=5, random_state= RANDOM_STATE, max_depth=rf_max_depth, n_estimators=rf_n_estimators), \n",
    "               LinearDiscriminantAnalysis(solver = lda_solver),\n",
    "               MLPClassifier(random_state= RANDOM_STATE, hidden_layer_sizes=mlp_hidden_layer, activation=mlp_activation, solver=mlp_solver, max_iter=1000),\n",
    "               svm.SVC(kernel='rbf', C=svc_c, gamma=svc_g),\n",
    "               svm.SVC(kernel='sigmoid', C=svc_sig_c, gamma=svc_sig_g)]"
   ]
  },
  {
   "cell_type": "code",
   "execution_count": 26,
   "metadata": {},
   "outputs": [
    {
     "data": {
      "text/html": [
       "<div>\n",
       "<style scoped>\n",
       "    .dataframe tbody tr th:only-of-type {\n",
       "        vertical-align: middle;\n",
       "    }\n",
       "\n",
       "    .dataframe tbody tr th {\n",
       "        vertical-align: top;\n",
       "    }\n",
       "\n",
       "    .dataframe thead th {\n",
       "        text-align: right;\n",
       "    }\n",
       "</style>\n",
       "<table border=\"1\" class=\"dataframe\">\n",
       "  <thead>\n",
       "    <tr style=\"text-align: right;\">\n",
       "      <th></th>\n",
       "      <th>Classifier</th>\n",
       "      <th>accuracy</th>\n",
       "      <th>balanced_accuracy</th>\n",
       "      <th>Precision</th>\n",
       "      <th>Recall</th>\n",
       "      <th>F1</th>\n",
       "      <th>AUC</th>\n",
       "    </tr>\n",
       "  </thead>\n",
       "  <tbody>\n",
       "    <tr>\n",
       "      <th>0</th>\n",
       "      <td>K Nearest Neighbors</td>\n",
       "      <td>0.63 (0.03)</td>\n",
       "      <td>0.63 (0.03)</td>\n",
       "      <td>0.64 (0.03)</td>\n",
       "      <td>0.61 (0.06)</td>\n",
       "      <td>0.62 (0.04)</td>\n",
       "      <td>0.64 (0.03)</td>\n",
       "    </tr>\n",
       "    <tr>\n",
       "      <th>1</th>\n",
       "      <td>Logistic Regression</td>\n",
       "      <td>0.66 (0.04)</td>\n",
       "      <td>0.66 (0.04)</td>\n",
       "      <td>0.66 (0.04)</td>\n",
       "      <td>0.64 (0.06)</td>\n",
       "      <td>0.65 (0.05)</td>\n",
       "      <td>0.70 (0.05)</td>\n",
       "    </tr>\n",
       "    <tr>\n",
       "      <th>2</th>\n",
       "      <td>ExtraTrees Classifier</td>\n",
       "      <td>0.66 (0.03)</td>\n",
       "      <td>0.66 (0.03)</td>\n",
       "      <td>0.66 (0.03)</td>\n",
       "      <td>0.64 (0.04)</td>\n",
       "      <td>0.65 (0.03)</td>\n",
       "      <td>0.70 (0.03)</td>\n",
       "    </tr>\n",
       "    <tr>\n",
       "      <th>3</th>\n",
       "      <td>Random Forest</td>\n",
       "      <td>0.64 (0.01)</td>\n",
       "      <td>0.64 (0.01)</td>\n",
       "      <td>0.67 (0.03)</td>\n",
       "      <td>0.57 (0.06)</td>\n",
       "      <td>0.61 (0.03)</td>\n",
       "      <td>0.67 (0.04)</td>\n",
       "    </tr>\n",
       "    <tr>\n",
       "      <th>4</th>\n",
       "      <td>LDA</td>\n",
       "      <td>0.61 (0.05)</td>\n",
       "      <td>0.61 (0.05)</td>\n",
       "      <td>0.61 (0.05)</td>\n",
       "      <td>0.61 (0.07)</td>\n",
       "      <td>0.61 (0.06)</td>\n",
       "      <td>0.65 (0.07)</td>\n",
       "    </tr>\n",
       "    <tr>\n",
       "      <th>5</th>\n",
       "      <td>MLP Classifier</td>\n",
       "      <td>0.67 (0.03)</td>\n",
       "      <td>0.67 (0.03)</td>\n",
       "      <td>0.69 (0.04)</td>\n",
       "      <td>0.65 (0.06)</td>\n",
       "      <td>0.66 (0.04)</td>\n",
       "      <td>0.70 (0.05)</td>\n",
       "    </tr>\n",
       "    <tr>\n",
       "      <th>6</th>\n",
       "      <td>SVM rbf</td>\n",
       "      <td>0.66 (0.04)</td>\n",
       "      <td>0.66 (0.04)</td>\n",
       "      <td>0.67 (0.05)</td>\n",
       "      <td>0.63 (0.04)</td>\n",
       "      <td>0.65 (0.04)</td>\n",
       "      <td>0.70 (0.04)</td>\n",
       "    </tr>\n",
       "    <tr>\n",
       "      <th>7</th>\n",
       "      <td>SVM sigmoid</td>\n",
       "      <td>0.65 (0.03)</td>\n",
       "      <td>0.65 (0.03)</td>\n",
       "      <td>0.66 (0.04)</td>\n",
       "      <td>0.63 (0.03)</td>\n",
       "      <td>0.64 (0.03)</td>\n",
       "      <td>0.69 (0.05)</td>\n",
       "    </tr>\n",
       "  </tbody>\n",
       "</table>\n",
       "</div>"
      ],
      "text/plain": [
       "              Classifier     accuracy balanced_accuracy    Precision  \\\n",
       "0    K Nearest Neighbors  0.63 (0.03)       0.63 (0.03)  0.64 (0.03)   \n",
       "1    Logistic Regression  0.66 (0.04)       0.66 (0.04)  0.66 (0.04)   \n",
       "2  ExtraTrees Classifier  0.66 (0.03)       0.66 (0.03)  0.66 (0.03)   \n",
       "3          Random Forest  0.64 (0.01)       0.64 (0.01)  0.67 (0.03)   \n",
       "4                    LDA  0.61 (0.05)       0.61 (0.05)  0.61 (0.05)   \n",
       "5         MLP Classifier  0.67 (0.03)       0.67 (0.03)  0.69 (0.04)   \n",
       "6                SVM rbf  0.66 (0.04)       0.66 (0.04)  0.67 (0.05)   \n",
       "7            SVM sigmoid  0.65 (0.03)       0.65 (0.03)  0.66 (0.04)   \n",
       "\n",
       "        Recall           F1          AUC  \n",
       "0  0.61 (0.06)  0.62 (0.04)  0.64 (0.03)  \n",
       "1  0.64 (0.06)  0.65 (0.05)  0.70 (0.05)  \n",
       "2  0.64 (0.04)  0.65 (0.03)  0.70 (0.03)  \n",
       "3  0.57 (0.06)  0.61 (0.03)  0.67 (0.04)  \n",
       "4  0.61 (0.07)  0.61 (0.06)  0.65 (0.07)  \n",
       "5  0.65 (0.06)  0.66 (0.04)  0.70 (0.05)  \n",
       "6  0.63 (0.04)  0.65 (0.04)  0.70 (0.04)  \n",
       "7  0.63 (0.03)  0.64 (0.03)  0.69 (0.05)  "
      ]
     },
     "execution_count": 26,
     "metadata": {},
     "output_type": "execute_result"
    }
   ],
   "source": [
    "pipeline_cross_val(names, Classifiers, embeddings_var, y_smk, kfold=kfold)"
   ]
  },
  {
   "cell_type": "markdown",
   "metadata": {},
   "source": [
    "#### Counting"
   ]
  },
  {
   "cell_type": "code",
   "execution_count": 30,
   "metadata": {},
   "outputs": [
    {
     "data": {
      "text/plain": [
       "(502, 89)"
      ]
     },
     "execution_count": 30,
     "metadata": {},
     "output_type": "execute_result"
    }
   ],
   "source": [
    "embeddings_var = counting_egemaps_embeddings\n",
    "embeddings_var.shape"
   ]
  },
  {
   "cell_type": "markdown",
   "metadata": {},
   "source": [
    "##### Grid search without PCA "
   ]
  },
  {
   "cell_type": "code",
   "execution_count": 31,
   "metadata": {},
   "outputs": [
    {
     "name": "stdout",
     "output_type": "stream",
     "text": [
      "{'classifier': KNeighborsClassifier(n_neighbors=3), 'classifier__n_neighbors': 3, 'classifier__weights': 'uniform'}\n"
     ]
    }
   ],
   "source": [
    "search_space = { 'classifier': [KNeighborsClassifier()],\n",
    "                 'classifier__n_neighbors': [3, 5, 7],\n",
    "                 'classifier__weights': ['uniform', 'distance'],\n",
    "                 }\n",
    "\n",
    "pca_model =  Pipeline([('scaler', scaler), ('classifier', KNeighborsClassifier())])\n",
    "\n",
    "clf = GridSearchCV(pca_model, search_space, cv=kfold, verbose=False, scoring='accuracy', n_jobs=-1)\n",
    "clf = clf.fit(embeddings_var, y_smk)\n",
    "\n",
    "knn_neighbours = clf.best_params_['classifier__n_neighbors']\n",
    "knn_weights = clf.best_params_['classifier__weights']\n",
    "\n",
    "print(clf.best_params_)"
   ]
  },
  {
   "cell_type": "code",
   "execution_count": 32,
   "metadata": {},
   "outputs": [
    {
     "name": "stdout",
     "output_type": "stream",
     "text": [
      "{'classifier': LogisticRegression(C=0.1, solver='liblinear'), 'classifier__C': 0.1}\n",
      "None\n"
     ]
    }
   ],
   "source": [
    "search_space = {'classifier': [LogisticRegression(solver='liblinear')],\n",
    "                'classifier__C': [0.01, 0.1, 1.0, 10]}\n",
    "\n",
    "pca_model =  Pipeline([('scaler', scaler), ('classifier', LogisticRegression())])\n",
    "\n",
    "clf = GridSearchCV(pca_model, search_space, cv=kfold, verbose=False, scoring='accuracy', n_jobs=-1)\n",
    "clf = clf.fit(embeddings_var, y_smk)\n",
    "\n",
    "lr_c = clf.best_params_['classifier__C']\n",
    "\n",
    "print(print(clf.best_params_))"
   ]
  },
  {
   "cell_type": "code",
   "execution_count": 33,
   "metadata": {},
   "outputs": [
    {
     "name": "stdout",
     "output_type": "stream",
     "text": [
      "{'classifier': ExtraTreesClassifier(max_depth=10, n_estimators=200, random_state=42), 'classifier__max_depth': 10, 'classifier__n_estimators': 200}\n"
     ]
    }
   ],
   "source": [
    "search_space = {'classifier': [ExtraTreesClassifier(random_state=RANDOM_STATE)],\n",
    "                'classifier__n_estimators': [10, 30, 50, 100, 200],\n",
    "                'classifier__max_depth': [8, 10, 12, 20]}\n",
    "\n",
    "pca_model =  Pipeline([('scaler', scaler), ('classifier', ExtraTreesClassifier())])\n",
    "\n",
    "clf = GridSearchCV(pca_model, search_space, cv=kfold, verbose=False, scoring='accuracy', n_jobs=-1)\n",
    "clf = clf.fit(embeddings_var, y_smk)\n",
    "\n",
    "etc_max_depth = clf.best_params_['classifier__max_depth']\n",
    "etc_n_estimators = clf.best_params_['classifier__n_estimators']\n",
    "\n",
    "print(clf.best_params_)"
   ]
  },
  {
   "cell_type": "code",
   "execution_count": 34,
   "metadata": {},
   "outputs": [
    {
     "name": "stdout",
     "output_type": "stream",
     "text": [
      "{'classifier': RandomForestClassifier(max_depth=5, max_leaf_nodes=5, n_estimators=50,\n",
      "                       random_state=42), 'classifier__max_depth': 5, 'classifier__n_estimators': 50}\n"
     ]
    }
   ],
   "source": [
    "search_space = {'classifier': [RandomForestClassifier(max_depth=4, max_leaf_nodes=5, random_state=RANDOM_STATE)],\n",
    "                'classifier__max_depth': [5, 10, None],\n",
    "                'classifier__n_estimators': [10, 20, 30, 40, 50, 100]}\n",
    "\n",
    "pca_model =  Pipeline([('scaler', scaler), ('classifier', RandomForestClassifier())])\n",
    "\n",
    "clf = GridSearchCV(pca_model, search_space, cv=kfold, verbose=False, scoring='accuracy', n_jobs=-1)\n",
    "clf = clf.fit(embeddings_var, y_smk)\n",
    "\n",
    "rf_max_depth = clf.best_params_['classifier__max_depth']\n",
    "rf_n_estimators = clf.best_params_['classifier__n_estimators']\n",
    "\n",
    "print(clf.best_params_)"
   ]
  },
  {
   "cell_type": "code",
   "execution_count": 35,
   "metadata": {},
   "outputs": [
    {
     "name": "stdout",
     "output_type": "stream",
     "text": [
      "{'classifier': LinearDiscriminantAnalysis(), 'classifier__solver': 'svd'}\n"
     ]
    }
   ],
   "source": [
    "search_space = {'classifier': [LinearDiscriminantAnalysis()],\n",
    "                'classifier__solver': ['svd', 'lsqr']}\n",
    "\n",
    "pca_model =  Pipeline([('scaler', scaler), ('classifier', LinearDiscriminantAnalysis())])\n",
    "\n",
    "clf = GridSearchCV(pca_model, search_space, cv=kfold, verbose=False, scoring='accuracy', n_jobs=-1)\n",
    "clf = clf.fit(embeddings_var, y_smk)\n",
    "\n",
    "lda_solver = clf.best_params_['classifier__solver']\n",
    "\n",
    "print(clf.best_params_)\n"
   ]
  },
  {
   "cell_type": "code",
   "execution_count": 36,
   "metadata": {},
   "outputs": [
    {
     "name": "stdout",
     "output_type": "stream",
     "text": [
      "{'classifier': MLPClassifier(activation='logistic', hidden_layer_sizes=(8,), max_iter=1000,\n",
      "              random_state=42), 'classifier__activation': 'logistic', 'classifier__hidden_layer_sizes': (8,), 'classifier__solver': 'adam'}\n"
     ]
    }
   ],
   "source": [
    "search_space = { 'classifier': [MLPClassifier(random_state=RANDOM_STATE, max_iter = 1000)],\n",
    "                 'classifier__hidden_layer_sizes': [(4,), (8,), (20,), (50,), (32,), (32,6,), (100,), (256, 128,)],\n",
    "                 'classifier__activation': ['relu', 'tanh', 'logistic'],\n",
    "                 'classifier__solver': ['adam', 'lbfgs']}\n",
    "\n",
    "pca_model =  Pipeline([('scaler', scaler), ('classifier',MLPClassifier(random_state=1, max_iter=1000))])\n",
    "\n",
    "clf = GridSearchCV(pca_model, search_space, cv=kfold, verbose=False, scoring='accuracy', n_jobs=-1)\n",
    "clf = clf.fit(embeddings_var, y_smk)\n",
    "\n",
    "mlp_hidden_layer = clf.best_params_['classifier__hidden_layer_sizes']\n",
    "mlp_activation = clf.best_params_['classifier__activation']\n",
    "mlp_solver = clf.best_params_['classifier__solver']\n",
    "\n",
    "print(clf.best_params_)"
   ]
  },
  {
   "cell_type": "code",
   "execution_count": 37,
   "metadata": {},
   "outputs": [
    {
     "name": "stdout",
     "output_type": "stream",
     "text": [
      "{'classifier': SVC(C=10000.0, gamma=1e-05), 'classifier__C': 10000.0, 'classifier__gamma': 1e-05}\n"
     ]
    }
   ],
   "source": [
    "search_space = {'classifier': [SVC(kernel='rbf')],\n",
    "                'classifier__C': [1e4, 1e5, 1e6],\n",
    "                'classifier__gamma': [1e-6, 1e-5, 1e-4, 1e-3]}\n",
    "\n",
    "pca_model =  Pipeline([('scaler', scaler), ('classifier', ('classifier', SVC(kernel='rbf')))])\n",
    "\n",
    "clf = GridSearchCV(pca_model, search_space, cv=kfold, verbose=False, scoring='accuracy', n_jobs=-1)\n",
    "clf = clf.fit(embeddings_var, y_smk)\n",
    "\n",
    "svc_c = clf.best_params_['classifier__C']\n",
    "svc_g = clf.best_params_['classifier__gamma']\n",
    "\n",
    "\n",
    "print(clf.best_params_)"
   ]
  },
  {
   "cell_type": "code",
   "execution_count": 38,
   "metadata": {},
   "outputs": [
    {
     "name": "stdout",
     "output_type": "stream",
     "text": [
      "{'classifier': SVC(C=10000.0, gamma=1e-05, kernel='sigmoid'), 'classifier__C': 10000.0, 'classifier__gamma': 1e-05}\n"
     ]
    }
   ],
   "source": [
    "search_space = {'classifier': [SVC(kernel='sigmoid')],\n",
    "                'classifier__C': [1e4, 1e5, 1e6],\n",
    "                'classifier__gamma': [1e-6, 1e-5, 1e-4, 1e-3]}\n",
    "\n",
    "pca_model =  Pipeline([('scaler', scaler), ('classifier', SVC(kernel='sigmoid'))])\n",
    "\n",
    "clf = GridSearchCV(pca_model, search_space, cv=kfold, verbose=False, scoring='accuracy', n_jobs=-1)\n",
    "clf = clf.fit(embeddings_var, y_smk)\n",
    "\n",
    "svc_sig_c = clf.best_params_['classifier__C']\n",
    "svc_sig_g = clf.best_params_['classifier__gamma']\n",
    "\n",
    "print(clf.best_params_)"
   ]
  },
  {
   "cell_type": "markdown",
   "metadata": {},
   "source": [
    "##### Cross-validation"
   ]
  },
  {
   "cell_type": "code",
   "execution_count": 39,
   "metadata": {},
   "outputs": [],
   "source": [
    "# Model building to train\n",
    "names = ['K Nearest Neighbors','Logistic Regression', 'ExtraTrees Classifier','Random Forest','LDA' ,'MLP Classifier' ,'SVM rbf', 'SVM sigmoid']\n",
    "Classifiers = [\n",
    "               KNeighborsClassifier(n_neighbors=knn_neighbours, weights=knn_weights),\n",
    "               LogisticRegression(solver='liblinear', C=lr_c), \n",
    "               ExtraTreesClassifier(random_state= RANDOM_STATE, max_depth=etc_max_depth, n_estimators=etc_n_estimators),\n",
    "               RandomForestClassifier(max_leaf_nodes=5, random_state= RANDOM_STATE, max_depth=rf_max_depth, n_estimators=rf_n_estimators), \n",
    "               LinearDiscriminantAnalysis(solver = lda_solver),\n",
    "               MLPClassifier(random_state= RANDOM_STATE, hidden_layer_sizes=mlp_hidden_layer, activation=mlp_activation, solver=mlp_solver, max_iter=1000),\n",
    "               svm.SVC(kernel='rbf', C=svc_c, gamma=svc_g),\n",
    "               svm.SVC(kernel='sigmoid', C=svc_sig_c, gamma=svc_sig_g)]"
   ]
  },
  {
   "cell_type": "code",
   "execution_count": 40,
   "metadata": {},
   "outputs": [
    {
     "data": {
      "text/html": [
       "<div>\n",
       "<style scoped>\n",
       "    .dataframe tbody tr th:only-of-type {\n",
       "        vertical-align: middle;\n",
       "    }\n",
       "\n",
       "    .dataframe tbody tr th {\n",
       "        vertical-align: top;\n",
       "    }\n",
       "\n",
       "    .dataframe thead th {\n",
       "        text-align: right;\n",
       "    }\n",
       "</style>\n",
       "<table border=\"1\" class=\"dataframe\">\n",
       "  <thead>\n",
       "    <tr style=\"text-align: right;\">\n",
       "      <th></th>\n",
       "      <th>Classifier</th>\n",
       "      <th>accuracy</th>\n",
       "      <th>balanced_accuracy</th>\n",
       "      <th>Precision</th>\n",
       "      <th>Recall</th>\n",
       "      <th>F1</th>\n",
       "      <th>AUC</th>\n",
       "    </tr>\n",
       "  </thead>\n",
       "  <tbody>\n",
       "    <tr>\n",
       "      <th>0</th>\n",
       "      <td>K Nearest Neighbors</td>\n",
       "      <td>0.57 (0.04)</td>\n",
       "      <td>0.57 (0.04)</td>\n",
       "      <td>0.59 (0.06)</td>\n",
       "      <td>0.50 (0.04)</td>\n",
       "      <td>0.54 (0.04)</td>\n",
       "      <td>0.59 (0.05)</td>\n",
       "    </tr>\n",
       "    <tr>\n",
       "      <th>1</th>\n",
       "      <td>Logistic Regression</td>\n",
       "      <td>0.64 (0.02)</td>\n",
       "      <td>0.64 (0.02)</td>\n",
       "      <td>0.65 (0.02)</td>\n",
       "      <td>0.63 (0.06)</td>\n",
       "      <td>0.64 (0.04)</td>\n",
       "      <td>0.68 (0.05)</td>\n",
       "    </tr>\n",
       "    <tr>\n",
       "      <th>2</th>\n",
       "      <td>ExtraTrees Classifier</td>\n",
       "      <td>0.63 (0.03)</td>\n",
       "      <td>0.63 (0.03)</td>\n",
       "      <td>0.64 (0.02)</td>\n",
       "      <td>0.58 (0.07)</td>\n",
       "      <td>0.61 (0.05)</td>\n",
       "      <td>0.68 (0.03)</td>\n",
       "    </tr>\n",
       "    <tr>\n",
       "      <th>3</th>\n",
       "      <td>Random Forest</td>\n",
       "      <td>0.63 (0.05)</td>\n",
       "      <td>0.63 (0.05)</td>\n",
       "      <td>0.67 (0.07)</td>\n",
       "      <td>0.54 (0.06)</td>\n",
       "      <td>0.59 (0.06)</td>\n",
       "      <td>0.68 (0.03)</td>\n",
       "    </tr>\n",
       "    <tr>\n",
       "      <th>4</th>\n",
       "      <td>LDA</td>\n",
       "      <td>0.63 (0.03)</td>\n",
       "      <td>0.63 (0.03)</td>\n",
       "      <td>0.63 (0.03)</td>\n",
       "      <td>0.61 (0.06)</td>\n",
       "      <td>0.62 (0.04)</td>\n",
       "      <td>0.66 (0.04)</td>\n",
       "    </tr>\n",
       "    <tr>\n",
       "      <th>5</th>\n",
       "      <td>MLP Classifier</td>\n",
       "      <td>0.66 (0.01)</td>\n",
       "      <td>0.66 (0.01)</td>\n",
       "      <td>0.66 (0.02)</td>\n",
       "      <td>0.64 (0.06)</td>\n",
       "      <td>0.65 (0.03)</td>\n",
       "      <td>0.70 (0.03)</td>\n",
       "    </tr>\n",
       "    <tr>\n",
       "      <th>6</th>\n",
       "      <td>SVM rbf</td>\n",
       "      <td>0.63 (0.03)</td>\n",
       "      <td>0.63 (0.03)</td>\n",
       "      <td>0.63 (0.03)</td>\n",
       "      <td>0.61 (0.06)</td>\n",
       "      <td>0.62 (0.04)</td>\n",
       "      <td>0.67 (0.04)</td>\n",
       "    </tr>\n",
       "    <tr>\n",
       "      <th>7</th>\n",
       "      <td>SVM sigmoid</td>\n",
       "      <td>0.63 (0.02)</td>\n",
       "      <td>0.63 (0.02)</td>\n",
       "      <td>0.64 (0.02)</td>\n",
       "      <td>0.62 (0.07)</td>\n",
       "      <td>0.63 (0.04)</td>\n",
       "      <td>0.67 (0.05)</td>\n",
       "    </tr>\n",
       "  </tbody>\n",
       "</table>\n",
       "</div>"
      ],
      "text/plain": [
       "              Classifier     accuracy balanced_accuracy    Precision  \\\n",
       "0    K Nearest Neighbors  0.57 (0.04)       0.57 (0.04)  0.59 (0.06)   \n",
       "1    Logistic Regression  0.64 (0.02)       0.64 (0.02)  0.65 (0.02)   \n",
       "2  ExtraTrees Classifier  0.63 (0.03)       0.63 (0.03)  0.64 (0.02)   \n",
       "3          Random Forest  0.63 (0.05)       0.63 (0.05)  0.67 (0.07)   \n",
       "4                    LDA  0.63 (0.03)       0.63 (0.03)  0.63 (0.03)   \n",
       "5         MLP Classifier  0.66 (0.01)       0.66 (0.01)  0.66 (0.02)   \n",
       "6                SVM rbf  0.63 (0.03)       0.63 (0.03)  0.63 (0.03)   \n",
       "7            SVM sigmoid  0.63 (0.02)       0.63 (0.02)  0.64 (0.02)   \n",
       "\n",
       "        Recall           F1          AUC  \n",
       "0  0.50 (0.04)  0.54 (0.04)  0.59 (0.05)  \n",
       "1  0.63 (0.06)  0.64 (0.04)  0.68 (0.05)  \n",
       "2  0.58 (0.07)  0.61 (0.05)  0.68 (0.03)  \n",
       "3  0.54 (0.06)  0.59 (0.06)  0.68 (0.03)  \n",
       "4  0.61 (0.06)  0.62 (0.04)  0.66 (0.04)  \n",
       "5  0.64 (0.06)  0.65 (0.03)  0.70 (0.03)  \n",
       "6  0.61 (0.06)  0.62 (0.04)  0.67 (0.04)  \n",
       "7  0.62 (0.07)  0.63 (0.04)  0.67 (0.05)  "
      ]
     },
     "execution_count": 40,
     "metadata": {},
     "output_type": "execute_result"
    }
   ],
   "source": [
    "pipeline_cross_val(names, Classifiers, embeddings_var, y_smk, kfold=kfold)"
   ]
  },
  {
   "cell_type": "markdown",
   "metadata": {},
   "source": [
    "#### A-vowel phonation"
   ]
  },
  {
   "cell_type": "code",
   "execution_count": 41,
   "metadata": {},
   "outputs": [
    {
     "data": {
      "text/plain": [
       "(502, 512)"
      ]
     },
     "execution_count": 41,
     "metadata": {},
     "output_type": "execute_result"
    }
   ],
   "source": [
    "embeddings_var = a_vowel_phonation_byola_embeddings\n",
    "embeddings_var.shape"
   ]
  },
  {
   "cell_type": "markdown",
   "metadata": {},
   "source": [
    "##### Grid search without PCA "
   ]
  },
  {
   "cell_type": "code",
   "execution_count": 42,
   "metadata": {},
   "outputs": [
    {
     "name": "stdout",
     "output_type": "stream",
     "text": [
      "{'classifier': KNeighborsClassifier(n_neighbors=7), 'classifier__n_neighbors': 7, 'classifier__weights': 'uniform'}\n"
     ]
    }
   ],
   "source": [
    "search_space = { 'classifier': [KNeighborsClassifier()],\n",
    "                 'classifier__n_neighbors': [3, 5, 7],\n",
    "                 'classifier__weights': ['uniform', 'distance'],\n",
    "                 }\n",
    "\n",
    "pca_model =  Pipeline([('scaler', scaler), ('classifier', KNeighborsClassifier())])\n",
    "\n",
    "clf = GridSearchCV(pca_model, search_space, cv=kfold, verbose=False, scoring='accuracy', n_jobs=-1)\n",
    "clf = clf.fit(embeddings_var, y_smk)\n",
    "\n",
    "knn_neighbours = clf.best_params_['classifier__n_neighbors']\n",
    "knn_weights = clf.best_params_['classifier__weights']\n",
    "\n",
    "print(clf.best_params_)"
   ]
  },
  {
   "cell_type": "code",
   "execution_count": 43,
   "metadata": {},
   "outputs": [
    {
     "name": "stdout",
     "output_type": "stream",
     "text": [
      "{'classifier': LogisticRegression(C=0.01, solver='liblinear'), 'classifier__C': 0.01}\n",
      "None\n"
     ]
    }
   ],
   "source": [
    "search_space = {'classifier': [LogisticRegression(solver='liblinear')],\n",
    "                'classifier__C': [0.01, 0.1, 1.0, 10]}\n",
    "\n",
    "pca_model =  Pipeline([('scaler', scaler), ('classifier', LogisticRegression())])\n",
    "\n",
    "clf = GridSearchCV(pca_model, search_space, cv=kfold, verbose=False, scoring='accuracy', n_jobs=-1)\n",
    "clf = clf.fit(embeddings_var, y_smk)\n",
    "\n",
    "lr_c = clf.best_params_['classifier__C']\n",
    "\n",
    "print(print(clf.best_params_))"
   ]
  },
  {
   "cell_type": "code",
   "execution_count": 44,
   "metadata": {},
   "outputs": [
    {
     "name": "stdout",
     "output_type": "stream",
     "text": [
      "{'classifier': ExtraTreesClassifier(max_depth=10, random_state=42), 'classifier__max_depth': 10, 'classifier__n_estimators': 100}\n"
     ]
    }
   ],
   "source": [
    "search_space = {'classifier': [ExtraTreesClassifier(random_state=RANDOM_STATE)],\n",
    "                'classifier__n_estimators': [10, 30, 50, 100, 200],\n",
    "                'classifier__max_depth': [8, 10, 12, 20]}\n",
    "\n",
    "pca_model =  Pipeline([('scaler', scaler), ('classifier', ExtraTreesClassifier())])\n",
    "\n",
    "clf = GridSearchCV(pca_model, search_space, cv=kfold, verbose=False, scoring='accuracy', n_jobs=-1)\n",
    "clf = clf.fit(embeddings_var, y_smk)\n",
    "\n",
    "etc_max_depth = clf.best_params_['classifier__max_depth']\n",
    "etc_n_estimators = clf.best_params_['classifier__n_estimators']\n",
    "\n",
    "print(clf.best_params_)"
   ]
  },
  {
   "cell_type": "code",
   "execution_count": 45,
   "metadata": {},
   "outputs": [
    {
     "name": "stdout",
     "output_type": "stream",
     "text": [
      "{'classifier': RandomForestClassifier(max_depth=5, max_leaf_nodes=5, n_estimators=40,\n",
      "                       random_state=42), 'classifier__max_depth': 5, 'classifier__n_estimators': 40}\n"
     ]
    }
   ],
   "source": [
    "search_space = {'classifier': [RandomForestClassifier(max_depth=4, max_leaf_nodes=5, random_state=RANDOM_STATE)],\n",
    "                'classifier__max_depth': [5, 10, None],\n",
    "                'classifier__n_estimators': [10, 20, 30, 40, 50, 100]}\n",
    "\n",
    "pca_model =  Pipeline([('scaler', scaler), ('classifier', RandomForestClassifier())])\n",
    "\n",
    "clf = GridSearchCV(pca_model, search_space, cv=kfold, verbose=False, scoring='accuracy', n_jobs=-1)\n",
    "clf = clf.fit(embeddings_var, y_smk)\n",
    "\n",
    "rf_max_depth = clf.best_params_['classifier__max_depth']\n",
    "rf_n_estimators = clf.best_params_['classifier__n_estimators']\n",
    "\n",
    "print(clf.best_params_)"
   ]
  },
  {
   "cell_type": "code",
   "execution_count": 46,
   "metadata": {},
   "outputs": [
    {
     "name": "stdout",
     "output_type": "stream",
     "text": [
      "{'classifier': LinearDiscriminantAnalysis(), 'classifier__solver': 'svd'}\n"
     ]
    }
   ],
   "source": [
    "search_space = {'classifier': [LinearDiscriminantAnalysis()],\n",
    "                'classifier__solver': ['svd', 'lsqr']}\n",
    "\n",
    "pca_model =  Pipeline([('scaler', scaler), ('classifier', LinearDiscriminantAnalysis())])\n",
    "\n",
    "clf = GridSearchCV(pca_model, search_space, cv=kfold, verbose=False, scoring='accuracy', n_jobs=-1)\n",
    "clf = clf.fit(embeddings_var, y_smk)\n",
    "\n",
    "lda_solver = clf.best_params_['classifier__solver']\n",
    "\n",
    "print(clf.best_params_)\n"
   ]
  },
  {
   "cell_type": "code",
   "execution_count": 47,
   "metadata": {},
   "outputs": [
    {
     "name": "stdout",
     "output_type": "stream",
     "text": [
      "{'classifier': MLPClassifier(hidden_layer_sizes=(256, 128), max_iter=1000, random_state=42,\n",
      "              solver='lbfgs'), 'classifier__activation': 'relu', 'classifier__hidden_layer_sizes': (256, 128), 'classifier__solver': 'lbfgs'}\n"
     ]
    }
   ],
   "source": [
    "search_space = { 'classifier': [MLPClassifier(random_state=RANDOM_STATE, max_iter = 1000)],\n",
    "                 'classifier__hidden_layer_sizes': [(4,), (8,), (20,), (50,), (32,), (32,6,), (100,), (256, 128,)],\n",
    "                 'classifier__activation': ['relu', 'tanh', 'logistic'],\n",
    "                 'classifier__solver': ['adam', 'lbfgs']}\n",
    "\n",
    "pca_model =  Pipeline([('scaler', scaler), ('classifier',MLPClassifier(random_state=1, max_iter=1000))])\n",
    "\n",
    "clf = GridSearchCV(pca_model, search_space, cv=kfold, verbose=False, scoring='accuracy', n_jobs=-1)\n",
    "clf = clf.fit(embeddings_var, y_smk)\n",
    "\n",
    "mlp_hidden_layer = clf.best_params_['classifier__hidden_layer_sizes']\n",
    "mlp_activation = clf.best_params_['classifier__activation']\n",
    "mlp_solver = clf.best_params_['classifier__solver']\n",
    "\n",
    "print(clf.best_params_)"
   ]
  },
  {
   "cell_type": "code",
   "execution_count": 48,
   "metadata": {},
   "outputs": [
    {
     "name": "stdout",
     "output_type": "stream",
     "text": [
      "{'classifier': SVC(C=10000.0, gamma=0.001), 'classifier__C': 10000.0, 'classifier__gamma': 0.001}\n"
     ]
    }
   ],
   "source": [
    "search_space = {'classifier': [SVC(kernel='rbf')],\n",
    "                'classifier__C': [1e4, 1e5, 1e6],\n",
    "                'classifier__gamma': [1e-6, 1e-5, 1e-4, 1e-3]}\n",
    "\n",
    "pca_model =  Pipeline([('scaler', scaler), ('classifier', ('classifier', SVC(kernel='rbf')))])\n",
    "\n",
    "clf = GridSearchCV(pca_model, search_space, cv=kfold, verbose=False, scoring='accuracy', n_jobs=-1)\n",
    "clf = clf.fit(embeddings_var, y_smk)\n",
    "\n",
    "svc_c = clf.best_params_['classifier__C']\n",
    "svc_g = clf.best_params_['classifier__gamma']\n",
    "\n",
    "\n",
    "print(clf.best_params_)"
   ]
  },
  {
   "cell_type": "code",
   "execution_count": 49,
   "metadata": {},
   "outputs": [
    {
     "name": "stdout",
     "output_type": "stream",
     "text": [
      "{'classifier': SVC(C=10000.0, gamma=0.001, kernel='sigmoid'), 'classifier__C': 10000.0, 'classifier__gamma': 0.001}\n"
     ]
    }
   ],
   "source": [
    "search_space = {'classifier': [SVC(kernel='sigmoid')],\n",
    "                'classifier__C': [1e4, 1e5, 1e6],\n",
    "                'classifier__gamma': [1e-6, 1e-5, 1e-4, 1e-3]}\n",
    "\n",
    "pca_model =  Pipeline([('scaler', scaler), ('classifier', SVC(kernel='sigmoid'))])\n",
    "\n",
    "clf = GridSearchCV(pca_model, search_space, cv=kfold, verbose=False, scoring='accuracy', n_jobs=-1)\n",
    "clf = clf.fit(embeddings_var, y_smk)\n",
    "\n",
    "svc_sig_c = clf.best_params_['classifier__C']\n",
    "svc_sig_g = clf.best_params_['classifier__gamma']\n",
    "\n",
    "print(clf.best_params_)"
   ]
  },
  {
   "cell_type": "markdown",
   "metadata": {},
   "source": [
    "##### Cross-validation"
   ]
  },
  {
   "cell_type": "code",
   "execution_count": 50,
   "metadata": {},
   "outputs": [],
   "source": [
    "# Model building to train\n",
    "names = ['K Nearest Neighbors','Logistic Regression', 'ExtraTrees Classifier','Random Forest','LDA' ,'MLP Classifier' ,'SVM rbf', 'SVM sigmoid']\n",
    "Classifiers = [\n",
    "               KNeighborsClassifier(n_neighbors=knn_neighbours, weights=knn_weights),\n",
    "               LogisticRegression(solver='liblinear', C=lr_c), \n",
    "               ExtraTreesClassifier(random_state= RANDOM_STATE, max_depth=etc_max_depth, n_estimators=etc_n_estimators),\n",
    "               RandomForestClassifier(max_leaf_nodes=5, random_state= RANDOM_STATE, max_depth=rf_max_depth, n_estimators=rf_n_estimators), \n",
    "               LinearDiscriminantAnalysis(solver = lda_solver),\n",
    "               MLPClassifier(random_state= RANDOM_STATE, hidden_layer_sizes=mlp_hidden_layer, activation=mlp_activation, solver=mlp_solver, max_iter=1000),\n",
    "               svm.SVC(kernel='rbf', C=svc_c, gamma=svc_g),\n",
    "               svm.SVC(kernel='sigmoid', C=svc_sig_c, gamma=svc_sig_g)]"
   ]
  },
  {
   "cell_type": "code",
   "execution_count": 51,
   "metadata": {},
   "outputs": [
    {
     "data": {
      "text/html": [
       "<div>\n",
       "<style scoped>\n",
       "    .dataframe tbody tr th:only-of-type {\n",
       "        vertical-align: middle;\n",
       "    }\n",
       "\n",
       "    .dataframe tbody tr th {\n",
       "        vertical-align: top;\n",
       "    }\n",
       "\n",
       "    .dataframe thead th {\n",
       "        text-align: right;\n",
       "    }\n",
       "</style>\n",
       "<table border=\"1\" class=\"dataframe\">\n",
       "  <thead>\n",
       "    <tr style=\"text-align: right;\">\n",
       "      <th></th>\n",
       "      <th>Classifier</th>\n",
       "      <th>accuracy</th>\n",
       "      <th>balanced_accuracy</th>\n",
       "      <th>Precision</th>\n",
       "      <th>Recall</th>\n",
       "      <th>F1</th>\n",
       "      <th>AUC</th>\n",
       "    </tr>\n",
       "  </thead>\n",
       "  <tbody>\n",
       "    <tr>\n",
       "      <th>0</th>\n",
       "      <td>K Nearest Neighbors</td>\n",
       "      <td>0.56 (0.04)</td>\n",
       "      <td>0.56 (0.04)</td>\n",
       "      <td>0.57 (0.05)</td>\n",
       "      <td>0.50 (0.06)</td>\n",
       "      <td>0.53 (0.05)</td>\n",
       "      <td>0.58 (0.04)</td>\n",
       "    </tr>\n",
       "    <tr>\n",
       "      <th>1</th>\n",
       "      <td>Logistic Regression</td>\n",
       "      <td>0.62 (0.03)</td>\n",
       "      <td>0.62 (0.03)</td>\n",
       "      <td>0.63 (0.05)</td>\n",
       "      <td>0.60 (0.06)</td>\n",
       "      <td>0.61 (0.04)</td>\n",
       "      <td>0.67 (0.04)</td>\n",
       "    </tr>\n",
       "    <tr>\n",
       "      <th>2</th>\n",
       "      <td>ExtraTrees Classifier</td>\n",
       "      <td>0.62 (0.04)</td>\n",
       "      <td>0.62 (0.04)</td>\n",
       "      <td>0.64 (0.07)</td>\n",
       "      <td>0.56 (0.04)</td>\n",
       "      <td>0.60 (0.02)</td>\n",
       "      <td>0.65 (0.03)</td>\n",
       "    </tr>\n",
       "    <tr>\n",
       "      <th>3</th>\n",
       "      <td>Random Forest</td>\n",
       "      <td>0.62 (0.04)</td>\n",
       "      <td>0.62 (0.04)</td>\n",
       "      <td>0.64 (0.05)</td>\n",
       "      <td>0.57 (0.07)</td>\n",
       "      <td>0.60 (0.04)</td>\n",
       "      <td>0.66 (0.04)</td>\n",
       "    </tr>\n",
       "    <tr>\n",
       "      <th>4</th>\n",
       "      <td>LDA</td>\n",
       "      <td>0.55 (0.07)</td>\n",
       "      <td>0.55 (0.07)</td>\n",
       "      <td>0.55 (0.06)</td>\n",
       "      <td>0.56 (0.12)</td>\n",
       "      <td>0.55 (0.09)</td>\n",
       "      <td>0.58 (0.09)</td>\n",
       "    </tr>\n",
       "    <tr>\n",
       "      <th>5</th>\n",
       "      <td>MLP Classifier</td>\n",
       "      <td>0.65 (0.04)</td>\n",
       "      <td>0.65 (0.04)</td>\n",
       "      <td>0.66 (0.04)</td>\n",
       "      <td>0.63 (0.06)</td>\n",
       "      <td>0.64 (0.04)</td>\n",
       "      <td>0.70 (0.02)</td>\n",
       "    </tr>\n",
       "    <tr>\n",
       "      <th>6</th>\n",
       "      <td>SVM rbf</td>\n",
       "      <td>0.63 (0.06)</td>\n",
       "      <td>0.63 (0.06)</td>\n",
       "      <td>0.65 (0.08)</td>\n",
       "      <td>0.61 (0.06)</td>\n",
       "      <td>0.63 (0.05)</td>\n",
       "      <td>0.69 (0.05)</td>\n",
       "    </tr>\n",
       "    <tr>\n",
       "      <th>7</th>\n",
       "      <td>SVM sigmoid</td>\n",
       "      <td>0.60 (0.03)</td>\n",
       "      <td>0.60 (0.03)</td>\n",
       "      <td>0.60 (0.03)</td>\n",
       "      <td>0.62 (0.07)</td>\n",
       "      <td>0.61 (0.04)</td>\n",
       "      <td>0.63 (0.03)</td>\n",
       "    </tr>\n",
       "  </tbody>\n",
       "</table>\n",
       "</div>"
      ],
      "text/plain": [
       "              Classifier     accuracy balanced_accuracy    Precision  \\\n",
       "0    K Nearest Neighbors  0.56 (0.04)       0.56 (0.04)  0.57 (0.05)   \n",
       "1    Logistic Regression  0.62 (0.03)       0.62 (0.03)  0.63 (0.05)   \n",
       "2  ExtraTrees Classifier  0.62 (0.04)       0.62 (0.04)  0.64 (0.07)   \n",
       "3          Random Forest  0.62 (0.04)       0.62 (0.04)  0.64 (0.05)   \n",
       "4                    LDA  0.55 (0.07)       0.55 (0.07)  0.55 (0.06)   \n",
       "5         MLP Classifier  0.65 (0.04)       0.65 (0.04)  0.66 (0.04)   \n",
       "6                SVM rbf  0.63 (0.06)       0.63 (0.06)  0.65 (0.08)   \n",
       "7            SVM sigmoid  0.60 (0.03)       0.60 (0.03)  0.60 (0.03)   \n",
       "\n",
       "        Recall           F1          AUC  \n",
       "0  0.50 (0.06)  0.53 (0.05)  0.58 (0.04)  \n",
       "1  0.60 (0.06)  0.61 (0.04)  0.67 (0.04)  \n",
       "2  0.56 (0.04)  0.60 (0.02)  0.65 (0.03)  \n",
       "3  0.57 (0.07)  0.60 (0.04)  0.66 (0.04)  \n",
       "4  0.56 (0.12)  0.55 (0.09)  0.58 (0.09)  \n",
       "5  0.63 (0.06)  0.64 (0.04)  0.70 (0.02)  \n",
       "6  0.61 (0.06)  0.63 (0.05)  0.69 (0.05)  \n",
       "7  0.62 (0.07)  0.61 (0.04)  0.63 (0.03)  "
      ]
     },
     "execution_count": 51,
     "metadata": {},
     "output_type": "execute_result"
    }
   ],
   "source": [
    "pipeline_cross_val(names, Classifiers, embeddings_var, y_smk, kfold=kfold)"
   ]
  },
  {
   "cell_type": "code",
   "execution_count": null,
   "metadata": {},
   "outputs": [],
   "source": []
  }
 ],
 "metadata": {
  "kernelspec": {
   "display_name": "Python 3",
   "language": "python",
   "name": "python3"
  },
  "language_info": {
   "codemirror_mode": {
    "name": "ipython",
    "version": 3
   },
   "file_extension": ".py",
   "mimetype": "text/x-python",
   "name": "python",
   "nbconvert_exporter": "python",
   "pygments_lexer": "ipython3",
   "version": "3.8.10"
  },
  "orig_nbformat": 4,
  "vscode": {
   "interpreter": {
    "hash": "147515091cc457e63f6a3fa77efc166ac79051f56db7813bbe05a46b64b8562c"
   }
  }
 },
 "nbformat": 4,
 "nbformat_minor": 2
}
